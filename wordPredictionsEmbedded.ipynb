{
  "nbformat": 4,
  "nbformat_minor": 0,
  "metadata": {
    "colab": {
      "provenance": [],
      "authorship_tag": "ABX9TyN5SnVkH2nXsjISKmpk/9Pz",
      "include_colab_link": true
    },
    "kernelspec": {
      "name": "python3",
      "display_name": "Python 3"
    },
    "language_info": {
      "name": "python"
    }
  },
  "cells": [
    {
      "cell_type": "markdown",
      "metadata": {
        "id": "view-in-github",
        "colab_type": "text"
      },
      "source": [
        "<a href=\"https://colab.research.google.com/github/MarcoLor01/NLPexperiment/blob/main/wordPredictionsEmbedded.ipynb\" target=\"_parent\"><img src=\"https://colab.research.google.com/assets/colab-badge.svg\" alt=\"Open In Colab\"/></a>"
      ]
    },
    {
      "cell_type": "code",
      "execution_count": 39,
      "metadata": {
        "colab": {
          "base_uri": "https://localhost:8080/"
        },
        "id": "k7IzT6E13Hzz",
        "outputId": "f2ddaa36-b2c1-4643-8426-b74683ec11e7"
      },
      "outputs": [
        {
          "output_type": "stream",
          "name": "stdout",
          "text": [
            "torch.Size([19, 19])\n",
            "torch.Size([4, 19])\n",
            "tensor(4)\n",
            "tensor(5)\n",
            "tensor(6)\n",
            "tensor(7)\n",
            "tensor(8)\n",
            "tensor(9)\n",
            "tensor(10)\n",
            "tensor(11)\n",
            "tensor(12)\n",
            "tensor(13)\n",
            "tensor(14)\n",
            "tensor(15)\n",
            "tensor(16)\n",
            "tensor(17)\n",
            "tensor(18)\n",
            "['nel', 'mezzo', 'del', 'cammin', 'di', 'nostra', 'vita', 'mi', 'ritrovai', 'per', 'una', 'selva', 'oscura', 'ché', 'la', 'diritta', 'via', 'era', 'smarrita']\n"
          ]
        }
      ],
      "source": [
        "import torch\n",
        "\n",
        "# Simboli estratti dall'incipit della Divina Commedia\n",
        "symbols = [\"nel\", \"mezzo\", \"del\", \"cammin\", \"di\", \"nostra\", \"vita\",\n",
        "           \"mi\", \"ritrovai\", \"per\", \"una\", \"selva\", \"oscura\",\n",
        "           \"ché\", \"la\", \"diritta\", \"via\", \"era\", \"smarrita\"]\n",
        "\n",
        "# Creazione dei vettori one-hot\n",
        "onehot_vectors = torch.eye(len(symbols))  # Matrice 14x14\n",
        "\n",
        "print (onehot_vectors.shape)\n",
        "# Funzione per ottenere l'indice del simbolo\n",
        "def i(symbol):\n",
        "    return symbols.index(symbol)\n",
        "\n",
        "# Parametri per la riduzione dimensionale\n",
        "d = len(symbols)  # Dimensione originale (numero di simboli)\n",
        "k = 4  # Dimensione ridotta\n",
        "n = len(symbols)  # Numero di simboli\n",
        "len_seq = 4\n",
        "# Creazione della matrice di proiezione casuale per Johnson-Lindenstrauss\n",
        "\n",
        "A = torch.randn(k, d) / torch.sqrt(torch.tensor(d, dtype=torch.float32))  # Proiezione con normalizzazione\n",
        "print (A.shape)\n",
        "# Funzione per creare una sequenza one-hot concatenata\n",
        "def seq(s1, s2, s3, s4):\n",
        "    # Ottieni i vettori one-hot dei simboli\n",
        "    one_hot = onehot_vectors[[i(s1), i(s2), i(s3), i(s4)]]\n",
        "    # Proietta nello spazio ridotto con la matrice di proiezione\n",
        "    reduced_seq = torch.matmul(one_hot, A.T).reshape(1, k*len_seq)  # Riduce la dimensione\n",
        "    return reduced_seq\n",
        "\n",
        "# Costruzione della matrice CMM (modificata con proiezione)\n",
        "CMM = torch.matmul(seq(\"nel\", \"mezzo\", \"del\", \"cammin\").T, onehot_vectors[[i(\"di\")]]) +\\\n",
        "      torch.matmul(seq(\"mezzo\", \"del\", \"cammin\", \"di\").T, onehot_vectors[[i(\"nostra\")]]) +\\\n",
        "      torch.matmul(seq(\"del\", \"cammin\", \"di\", \"nostra\").T, onehot_vectors[[i(\"vita\")]]) +\\\n",
        "      torch.matmul(seq(\"cammin\", \"di\", \"nostra\", \"vita\").T, onehot_vectors[[i(\"mi\")]]) +\\\n",
        "      torch.matmul(seq(\"di\", \"nostra\", \"vita\", \"mi\").T, onehot_vectors[[i(\"ritrovai\")]]) +\\\n",
        "      torch.matmul(seq(\"nostra\", \"vita\", \"mi\", \"ritrovai\").T, onehot_vectors[[i(\"per\")]]) +\\\n",
        "      torch.matmul(seq(\"vita\", \"mi\", \"ritrovai\", \"per\").T, onehot_vectors[[i(\"una\")]]) +\\\n",
        "      torch.matmul(seq(\"mi\", \"ritrovai\", \"per\", \"una\").T, onehot_vectors[[i(\"selva\")]]) +\\\n",
        "      torch.matmul(seq(\"ritrovai\", \"per\", \"una\", \"selva\").T, onehot_vectors[[i(\"oscura\")]]) +\\\n",
        "      torch.matmul(seq(\"per\", \"una\", \"selva\", \"oscura\").T, onehot_vectors[[i(\"ché\")]]) +\\\n",
        "      torch.matmul(seq(\"una\", \"selva\", \"oscura\", \"ché\").T, onehot_vectors[[i(\"la\")]]) +\\\n",
        "      torch.matmul(seq(\"selva\", \"oscura\", \"ché\", \"la\").T, onehot_vectors[[i(\"diritta\")]]) +\\\n",
        "      torch.matmul(seq(\"oscura\", \"ché\", \"la\", \"diritta\").T, onehot_vectors[[i(\"via\")]]) +\\\n",
        "      torch.matmul(seq(\"ché\", \"la\", \"diritta\", \"via\").T, onehot_vectors[[i(\"era\")]]) +\\\n",
        "      torch.matmul(seq(\"la\", \"diritta\", \"via\", \"era\").T, onehot_vectors[[i(\"smarrita\")]])\n",
        "\n",
        "# Predizione basata sul modello CMM\n",
        "(s1, s2, s3, s4) = (\"nel\", \"mezzo\", \"del\", \"cammin\")\n",
        "out = torch.matmul(seq(s1, s2, s3, s4), CMM)\n",
        "predict_symb = symbols[torch.argmax(out)]\n",
        "\n",
        "# Previsione iterativa\n",
        "predicted_word = [s1, s2, s3, s4]\n",
        "kkk=0\n",
        "while True:\n",
        "    out = torch.matmul(seq(s1, s2, s3, s4), CMM)\n",
        "    s1, s2, s3 = s2, s3, s4\n",
        "    s4 = symbols[torch.argmax(out)]\n",
        "    kkk=kkk+1\n",
        "    # Aggiungi la previsione alla lista\n",
        "    predicted_word.append(s4)\n",
        "    print (torch.argmax(out))\n",
        "    # Se la previsione è un simbolo finale, fermati\n",
        "    #if s4 == \"smarrita\":\n",
        "    if kkk==15:\n",
        "        break\n",
        "\n",
        "print(predicted_word)"
      ]
    },
    {
      "cell_type": "code",
      "source": [],
      "metadata": {
        "id": "zj3l4ko46zxv"
      },
      "execution_count": 21,
      "outputs": []
    },
    {
      "cell_type": "code",
      "source": [],
      "metadata": {
        "id": "4IoLtjGJ7A-W"
      },
      "execution_count": 22,
      "outputs": []
    },
    {
      "cell_type": "code",
      "source": [],
      "metadata": {
        "id": "yQmqsVP07FUx"
      },
      "execution_count": 23,
      "outputs": []
    },
    {
      "cell_type": "code",
      "source": [],
      "metadata": {
        "colab": {
          "base_uri": "https://localhost:8080/",
          "height": 245
        },
        "id": "Ly2T_YA67F8m",
        "outputId": "5b9e07de-385b-4324-c971-88c525ae29f8"
      },
      "execution_count": 25,
      "outputs": [
        {
          "output_type": "stream",
          "name": "stdout",
          "text": [
            "nel mezzo del cammin\n",
            "mezzo\n"
          ]
        },
        {
          "output_type": "error",
          "ename": "KeyboardInterrupt",
          "evalue": "",
          "traceback": [
            "\u001b[0;31m---------------------------------------------------------------------------\u001b[0m",
            "\u001b[0;31mKeyboardInterrupt\u001b[0m                         Traceback (most recent call last)",
            "\u001b[0;32m<ipython-input-25-6336a89d987d>\u001b[0m in \u001b[0;36m<cell line: 7>\u001b[0;34m()\u001b[0m\n\u001b[1;32m      7\u001b[0m \u001b[0;32mwhile\u001b[0m \u001b[0;32mTrue\u001b[0m\u001b[0;34m:\u001b[0m\u001b[0;34m\u001b[0m\u001b[0;34m\u001b[0m\u001b[0m\n\u001b[1;32m      8\u001b[0m     \u001b[0;31m# Calcolo dell'output\u001b[0m\u001b[0;34m\u001b[0m\u001b[0;34m\u001b[0m\u001b[0m\n\u001b[0;32m----> 9\u001b[0;31m     \u001b[0mout\u001b[0m \u001b[0;34m=\u001b[0m \u001b[0mtorch\u001b[0m\u001b[0;34m.\u001b[0m\u001b[0mmatmul\u001b[0m\u001b[0;34m(\u001b[0m\u001b[0mseq_emb\u001b[0m\u001b[0;34m(\u001b[0m\u001b[0ms1\u001b[0m\u001b[0;34m,\u001b[0m \u001b[0ms2\u001b[0m\u001b[0;34m,\u001b[0m \u001b[0ms3\u001b[0m\u001b[0;34m,\u001b[0m \u001b[0ms4\u001b[0m\u001b[0;34m)\u001b[0m\u001b[0;34m,\u001b[0m \u001b[0mCMM\u001b[0m\u001b[0;34m)\u001b[0m\u001b[0;34m\u001b[0m\u001b[0;34m\u001b[0m\u001b[0m\n\u001b[0m\u001b[1;32m     10\u001b[0m     \u001b[0;32mif\u001b[0m \u001b[0mj\u001b[0m\u001b[0;34m==\u001b[0m\u001b[0;36m0\u001b[0m\u001b[0;34m:\u001b[0m\u001b[0;34m\u001b[0m\u001b[0;34m\u001b[0m\u001b[0m\n\u001b[1;32m     11\u001b[0m       \u001b[0mprint\u001b[0m\u001b[0;34m(\u001b[0m\u001b[0ms1\u001b[0m\u001b[0;34m,\u001b[0m\u001b[0ms2\u001b[0m\u001b[0;34m,\u001b[0m\u001b[0ms3\u001b[0m\u001b[0;34m,\u001b[0m\u001b[0ms4\u001b[0m\u001b[0;34m)\u001b[0m\u001b[0;34m\u001b[0m\u001b[0;34m\u001b[0m\u001b[0m\n",
            "\u001b[0;31mKeyboardInterrupt\u001b[0m: "
          ]
        }
      ]
    }
  ]
}