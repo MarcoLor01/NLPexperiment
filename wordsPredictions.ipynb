{
  "nbformat": 4,
  "nbformat_minor": 0,
  "metadata": {
    "colab": {
      "provenance": []
    },
    "kernelspec": {
      "name": "python3",
      "display_name": "Python 3"
    },
    "language_info": {
      "name": "python"
    }
  },
  "cells": [
    {
      "cell_type": "markdown",
      "source": [
        "# One Hot Representation\n"
      ],
      "metadata": {
        "id": "3tql3Bbd1dHw"
      }
    },
    {
      "cell_type": "code",
      "execution_count": 2,
      "metadata": {
        "colab": {
          "base_uri": "https://localhost:8080/"
        },
        "id": "9nnF9KLiAe23",
        "outputId": "1b71144b-8fd1-482b-b6dc-6fa649f47c2b"
      },
      "outputs": [
        {
          "output_type": "stream",
          "name": "stdout",
          "text": [
            "tensor([[1., 0., 0., 0., 0., 0., 0., 0., 0., 0., 0., 0., 0., 0., 0., 0., 0., 0.,\n",
            "         0., 0., 1., 0., 0., 0., 0., 0., 0., 0., 0., 0., 0., 0., 0., 0., 0., 0.,\n",
            "         0., 0., 0., 0., 1., 0., 0., 0., 0., 0., 0., 0., 0., 0., 0., 0., 0., 0.,\n",
            "         0., 0., 0., 0., 0., 0., 1., 0., 0., 0., 0., 0., 0., 0., 0., 0., 0., 0.,\n",
            "         0., 0., 0., 0.]])\n"
          ]
        }
      ],
      "source": [
        "import torch\n",
        "\n",
        "# Simboli estratti dall'incipit della Divina Commedia\n",
        "symbols = [\"nel\", \"mezzo\", \"del\", \"cammin\", \"di\", \"nostra\", \"vita\",\n",
        "           \"mi\", \"ritrovai\", \"per\", \"una\", \"selva\", \"oscura\",\n",
        "           \"ché\", \"la\", \"diritta\", \"via\", \"era\", \"smarrita\"]\n",
        "\n",
        "# Creazione dei vettori one-hot\n",
        "onehot_vectors = torch.eye(len(symbols)) #Matrice 14x14\n",
        "len_seq = 4  # lunghezza delle sequenze\n",
        "\n",
        "# Funzione per ottenere l'indice del simbolo\n",
        "def i(symbol):\n",
        "    return symbols.index(symbol)\n",
        "\n",
        "# Funzione per creare una sequenza one-hot concatenata\n",
        "def seq(s1, s2, s3, s4):\n",
        "    return onehot_vectors[[i(s1), i(s2), i(s3), i(s4)]].reshape(1, len(symbols) * len_seq) #Prendo le 4 righe che mi interessano della matrice, quindi ho Matrix: 4x14, trasformo in un vettore\n",
        "    #unico da 1 x 56\n",
        "\n",
        "print(seq(\"nel\", \"mezzo\", \"del\", \"cammin\"))"
      ]
    },
    {
      "cell_type": "code",
      "source": [
        "# Costruzione della matrice CMM\n",
        "CMM = torch.matmul(seq(\"nel\", \"mezzo\", \"del\", \"cammin\").T, onehot_vectors[[i(\"di\")]]) +\\\n",
        "      torch.matmul(seq(\"mezzo\", \"del\", \"cammin\", \"di\").T, onehot_vectors[[i(\"nostra\")]]) +\\\n",
        "      torch.matmul(seq(\"del\", \"cammin\", \"di\", \"nostra\").T, onehot_vectors[[i(\"vita\")]]) +\\\n",
        "      torch.matmul(seq(\"cammin\", \"di\", \"nostra\", \"vita\").T, onehot_vectors[[i(\"mi\")]]) +\\\n",
        "      torch.matmul(seq(\"di\", \"nostra\", \"vita\", \"mi\").T, onehot_vectors[[i(\"ritrovai\")]]) +\\\n",
        "      torch.matmul(seq(\"nostra\", \"vita\", \"mi\", \"ritrovai\").T, onehot_vectors[[i(\"per\")]]) +\\\n",
        "      torch.matmul(seq(\"vita\", \"mi\", \"ritrovai\", \"per\").T, onehot_vectors[[i(\"una\")]]) +\\\n",
        "      torch.matmul(seq(\"mi\", \"ritrovai\", \"per\", \"una\").T, onehot_vectors[[i(\"selva\")]]) +\\\n",
        "      torch.matmul(seq(\"ritrovai\", \"per\", \"una\", \"selva\").T, onehot_vectors[[i(\"oscura\")]]) +\\\n",
        "      torch.matmul(seq(\"per\", \"una\", \"selva\", \"oscura\").T, onehot_vectors[[i(\"ché\")]]) +\\\n",
        "      torch.matmul(seq(\"una\", \"selva\", \"oscura\", \"ché\").T, onehot_vectors[[i(\"la\")]]) +\\\n",
        "      torch.matmul(seq(\"selva\", \"oscura\", \"ché\", \"la\").T, onehot_vectors[[i(\"diritta\")]]) +\\\n",
        "      torch.matmul(seq(\"oscura\", \"ché\", \"la\", \"diritta\").T, onehot_vectors[[i(\"via\")]]) +\\\n",
        "      torch.matmul(seq(\"ché\", \"la\", \"diritta\", \"via\").T, onehot_vectors[[i(\"era\")]]) +\\\n",
        "      torch.matmul(seq(\"la\", \"diritta\", \"via\", \"era\").T, onehot_vectors[[i(\"smarrita\")]])"
      ],
      "metadata": {
        "id": "coJdpvB6HkLy"
      },
      "execution_count": 3,
      "outputs": []
    },
    {
      "cell_type": "code",
      "source": [
        "(s1, s2, s3, s4) = (\"nel\", \"mezzo\", \"del\", \"cammin\")\n",
        "out = torch.matmul(seq(s1, s2, s3, s4), CMM)\n",
        "predict_symb=symbols[torch.argmax(out)]"
      ],
      "metadata": {
        "id": "wBp0gMwLHSAK"
      },
      "execution_count": null,
      "outputs": []
    },
    {
      "cell_type": "code",
      "source": [
        "(s1, s2, s3, s4) = (\"nel\", \"mezzo\", \"del\", \"cammin\")\n",
        "predicted_word = []\n",
        "predicted_word.append(s1)\n",
        "predicted_word.append(s2)\n",
        "predicted_word.append(s3)\n",
        "predicted_word.append(s4)\n",
        "\n",
        "while True:\n",
        "  out = torch.matmul(seq(s1, s2, s3, s4), CMM)\n",
        "  s1 = s2\n",
        "  s2 = s3\n",
        "  s3 = s4\n",
        "  s4 = symbols[torch.argmax(out)]\n",
        "\n",
        "  k = torch.argmax(out)\n",
        "  if k:\n",
        "    predicted_word.append(s4)\n",
        "  else:\n",
        "    break\n",
        "print(predicted_word)"
      ],
      "metadata": {
        "colab": {
          "base_uri": "https://localhost:8080/"
        },
        "id": "ktOFn3wtJN5A",
        "outputId": "b1595d06-20d3-49d5-a7a0-efbf7f7ef1c1"
      },
      "execution_count": 5,
      "outputs": [
        {
          "output_type": "stream",
          "name": "stdout",
          "text": [
            "['nel', 'mezzo', 'del', 'cammin', 'di', 'nostra', 'vita', 'mi', 'ritrovai', 'per', 'una', 'selva', 'oscura', 'ché', 'la', 'diritta', 'via', 'era', 'smarrita']\n"
          ]
        }
      ]
    },
    {
      "cell_type": "code",
      "source": [],
      "metadata": {
        "id": "67fBJfGm1sjB"
      },
      "execution_count": null,
      "outputs": []
    }
  ]
}